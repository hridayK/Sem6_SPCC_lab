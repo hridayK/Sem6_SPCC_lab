{
 "cells": [
  {
   "attachments": {},
   "cell_type": "markdown",
   "metadata": {},
   "source": [
    "### Defining Grammar:"
   ]
  },
  {
   "cell_type": "code",
   "execution_count": 1,
   "metadata": {},
   "outputs": [],
   "source": [
    "gm = {\n",
    "    'S':'Aa',\n",
    "    'A':'B',\n",
    "    'B':'CTD',\n",
    "    'C':'ε',\n",
    "    'T':'ε',\n",
    "    'D':'ca'\n",
    "    }"
   ]
  },
  {
   "cell_type": "code",
   "execution_count": 2,
   "metadata": {},
   "outputs": [
    {
     "data": {
      "text/plain": [
       "False"
      ]
     },
     "execution_count": 2,
     "metadata": {},
     "output_type": "execute_result"
    }
   ],
   "source": [
    "'Aa' in gm"
   ]
  },
  {
   "cell_type": "code",
   "execution_count": 3,
   "metadata": {},
   "outputs": [],
   "source": [
    "def traverse(symbol:str):\n",
    "    output = symbol[0]\n",
    "    while(True):\n",
    "        if output in gm:\n",
    "            output=gm[output][0]\n",
    "        else:\n",
    "            break\n",
    "    return output"
   ]
  },
  {
   "cell_type": "code",
   "execution_count": 4,
   "metadata": {},
   "outputs": [],
   "source": [
    "def traverser(prod:str):\n",
    "    pointer=0\n",
    "    return traverse('S')"
   ]
  },
  {
   "cell_type": "code",
   "execution_count": 5,
   "metadata": {},
   "outputs": [
    {
     "data": {
      "text/plain": [
       "'ε'"
      ]
     },
     "execution_count": 5,
     "metadata": {},
     "output_type": "execute_result"
    }
   ],
   "source": [
    "# traverser(gm['B'])\n",
    "traverse('S')"
   ]
  },
  {
   "cell_type": "code",
   "execution_count": 6,
   "metadata": {},
   "outputs": [],
   "source": [
    "def first(nt: str):\n",
    "    print(f\"jump to {nt}\")\n",
    "    pointer=0\n",
    "    if nt in gm:\n",
    "        x = gm[nt]\n",
    "        print(nt, '->', x)\n",
    "    else:\n",
    "        return 'null'\n",
    "    if(x[pointer].isupper() and gm[x[pointer]]!='ε'):\n",
    "        first(x[pointer])\n",
    "    elif(x[pointer].islower()):\n",
    "        print(\"First of gramar is: \" + str(x[pointer]))\n",
    "    elif(x[pointer].isupper()):\n",
    "        first(x[pointer+1])\n",
    "    if(pointer==len(x)):\n",
    "        print(\"Epsilon\")"
   ]
  },
  {
   "cell_type": "code",
   "execution_count": 7,
   "metadata": {},
   "outputs": [
    {
     "name": "stdout",
     "output_type": "stream",
     "text": [
      "jump to S\n",
      "S -> Aa\n",
      "jump to A\n",
      "A -> B\n",
      "jump to B\n",
      "B -> CTD\n",
      "jump to T\n",
      "T -> ε\n",
      "First of gramar is: ε\n"
     ]
    }
   ],
   "source": [
    "first('S')"
   ]
  }
 ],
 "metadata": {
  "kernelspec": {
   "display_name": "Python 3",
   "language": "python",
   "name": "python3"
  },
  "language_info": {
   "codemirror_mode": {
    "name": "ipython",
    "version": 3
   },
   "file_extension": ".py",
   "mimetype": "text/x-python",
   "name": "python",
   "nbconvert_exporter": "python",
   "pygments_lexer": "ipython3",
   "version": "3.9.1"
  },
  "orig_nbformat": 4,
  "vscode": {
   "interpreter": {
    "hash": "89d90e86139c8b20d19e8110fb3386ab7fe25194b169c5de31c168141441ed82"
   }
  }
 },
 "nbformat": 4,
 "nbformat_minor": 2
}
